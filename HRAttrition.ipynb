{
 "cells": [
  {
   "cell_type": "markdown",
   "id": "fc39ebe4-acb2-43fb-9939-4139006ccd23",
   "metadata": {},
   "source": [
    "### HR Attrition Prediction\n",
    "#### The goal of this project is to be able to predict the liklihood of attrition, so an employer can use this information to emphasize attention towards a particular employee. \n",
    "#### The dataset was taken from Kaggle, but all ideas are my own"
   ]
  },
  {
   "cell_type": "markdown",
   "id": "43c41bf9-6b27-4a05-9d91-57d9c5e19883",
   "metadata": {},
   "source": [
    "##### Dummy Attribute info\n",
    "\n",
    "Education\n",
    "1 'Below College'\n",
    "2 'College'\n",
    "3 'Bachelor'\n",
    "4 'Master'\n",
    "5 'Doctor'\n",
    "\n",
    "EnvironmentSatisfaction\n",
    "1 'Low'\n",
    "2 'Medium'\n",
    "3 'High'\n",
    "4 'Very High'\n",
    "\n",
    "JobInvolvement\n",
    "1 'Low'\n",
    "2 'Medium'\n",
    "3 'High'\n",
    "4 'Very High'\n",
    "\n",
    "JobSatisfaction\n",
    "1 'Low'\n",
    "2 'Medium'\n",
    "3 'High'\n",
    "4 'Very High'\n",
    "\n",
    "PerformanceRating\n",
    "1 'Low'\n",
    "2 'Good'\n",
    "3 'Excellent'\n",
    "4 'Outstanding'\n",
    "\n",
    "RelationshipSatisfaction\n",
    "1 'Low'\n",
    "2 'Medium'\n",
    "3 'High'\n",
    "4 'Very High'\n",
    "\n",
    "WorkLifeBalance\n",
    "1 'Bad'\n",
    "2 'Good'\n",
    "3 'Better'\n",
    "4 'Best'\n"
   ]
  },
  {
   "cell_type": "code",
   "execution_count": 1,
   "id": "8a4ee975-b7a3-499b-bd00-11f6b05107f6",
   "metadata": {},
   "outputs": [],
   "source": [
    "# import necessary libraries\n",
    "import pandas as pd\n",
    "import numpy as np\n",
    "from sklearn.model_selection import train_test_split\n",
    "from sklearn.linear_model import LogisticRegression\n",
    "from sklearn.model_selection import GridSearchCV\n"
   ]
  },
  {
   "cell_type": "code",
   "execution_count": 2,
   "id": "70cae098-733d-4cb8-a78b-5ae2333bd215",
   "metadata": {},
   "outputs": [
    {
     "data": {
      "text/html": [
       "<div>\n",
       "<style scoped>\n",
       "    .dataframe tbody tr th:only-of-type {\n",
       "        vertical-align: middle;\n",
       "    }\n",
       "\n",
       "    .dataframe tbody tr th {\n",
       "        vertical-align: top;\n",
       "    }\n",
       "\n",
       "    .dataframe thead th {\n",
       "        text-align: right;\n",
       "    }\n",
       "</style>\n",
       "<table border=\"1\" class=\"dataframe\">\n",
       "  <thead>\n",
       "    <tr style=\"text-align: right;\">\n",
       "      <th></th>\n",
       "      <th>Age</th>\n",
       "      <th>Attrition</th>\n",
       "      <th>BusinessTravel</th>\n",
       "      <th>DailyRate</th>\n",
       "      <th>Department</th>\n",
       "      <th>DistanceFromHome</th>\n",
       "      <th>Education</th>\n",
       "      <th>EducationField</th>\n",
       "      <th>EmployeeCount</th>\n",
       "      <th>EmployeeNumber</th>\n",
       "      <th>...</th>\n",
       "      <th>RelationshipSatisfaction</th>\n",
       "      <th>StandardHours</th>\n",
       "      <th>StockOptionLevel</th>\n",
       "      <th>TotalWorkingYears</th>\n",
       "      <th>TrainingTimesLastYear</th>\n",
       "      <th>WorkLifeBalance</th>\n",
       "      <th>YearsAtCompany</th>\n",
       "      <th>YearsInCurrentRole</th>\n",
       "      <th>YearsSinceLastPromotion</th>\n",
       "      <th>YearsWithCurrManager</th>\n",
       "    </tr>\n",
       "  </thead>\n",
       "  <tbody>\n",
       "    <tr>\n",
       "      <th>0</th>\n",
       "      <td>41</td>\n",
       "      <td>Yes</td>\n",
       "      <td>Travel_Rarely</td>\n",
       "      <td>1102</td>\n",
       "      <td>Sales</td>\n",
       "      <td>1</td>\n",
       "      <td>2</td>\n",
       "      <td>Life Sciences</td>\n",
       "      <td>1</td>\n",
       "      <td>1</td>\n",
       "      <td>...</td>\n",
       "      <td>1</td>\n",
       "      <td>80</td>\n",
       "      <td>0</td>\n",
       "      <td>8</td>\n",
       "      <td>0</td>\n",
       "      <td>1</td>\n",
       "      <td>6</td>\n",
       "      <td>4</td>\n",
       "      <td>0</td>\n",
       "      <td>5</td>\n",
       "    </tr>\n",
       "    <tr>\n",
       "      <th>1</th>\n",
       "      <td>49</td>\n",
       "      <td>No</td>\n",
       "      <td>Travel_Frequently</td>\n",
       "      <td>279</td>\n",
       "      <td>Research &amp; Development</td>\n",
       "      <td>8</td>\n",
       "      <td>1</td>\n",
       "      <td>Life Sciences</td>\n",
       "      <td>1</td>\n",
       "      <td>2</td>\n",
       "      <td>...</td>\n",
       "      <td>4</td>\n",
       "      <td>80</td>\n",
       "      <td>1</td>\n",
       "      <td>10</td>\n",
       "      <td>3</td>\n",
       "      <td>3</td>\n",
       "      <td>10</td>\n",
       "      <td>7</td>\n",
       "      <td>1</td>\n",
       "      <td>7</td>\n",
       "    </tr>\n",
       "    <tr>\n",
       "      <th>2</th>\n",
       "      <td>37</td>\n",
       "      <td>Yes</td>\n",
       "      <td>Travel_Rarely</td>\n",
       "      <td>1373</td>\n",
       "      <td>Research &amp; Development</td>\n",
       "      <td>2</td>\n",
       "      <td>2</td>\n",
       "      <td>Other</td>\n",
       "      <td>1</td>\n",
       "      <td>4</td>\n",
       "      <td>...</td>\n",
       "      <td>2</td>\n",
       "      <td>80</td>\n",
       "      <td>0</td>\n",
       "      <td>7</td>\n",
       "      <td>3</td>\n",
       "      <td>3</td>\n",
       "      <td>0</td>\n",
       "      <td>0</td>\n",
       "      <td>0</td>\n",
       "      <td>0</td>\n",
       "    </tr>\n",
       "    <tr>\n",
       "      <th>3</th>\n",
       "      <td>33</td>\n",
       "      <td>No</td>\n",
       "      <td>Travel_Frequently</td>\n",
       "      <td>1392</td>\n",
       "      <td>Research &amp; Development</td>\n",
       "      <td>3</td>\n",
       "      <td>4</td>\n",
       "      <td>Life Sciences</td>\n",
       "      <td>1</td>\n",
       "      <td>5</td>\n",
       "      <td>...</td>\n",
       "      <td>3</td>\n",
       "      <td>80</td>\n",
       "      <td>0</td>\n",
       "      <td>8</td>\n",
       "      <td>3</td>\n",
       "      <td>3</td>\n",
       "      <td>8</td>\n",
       "      <td>7</td>\n",
       "      <td>3</td>\n",
       "      <td>0</td>\n",
       "    </tr>\n",
       "    <tr>\n",
       "      <th>4</th>\n",
       "      <td>27</td>\n",
       "      <td>No</td>\n",
       "      <td>Travel_Rarely</td>\n",
       "      <td>591</td>\n",
       "      <td>Research &amp; Development</td>\n",
       "      <td>2</td>\n",
       "      <td>1</td>\n",
       "      <td>Medical</td>\n",
       "      <td>1</td>\n",
       "      <td>7</td>\n",
       "      <td>...</td>\n",
       "      <td>4</td>\n",
       "      <td>80</td>\n",
       "      <td>1</td>\n",
       "      <td>6</td>\n",
       "      <td>3</td>\n",
       "      <td>3</td>\n",
       "      <td>2</td>\n",
       "      <td>2</td>\n",
       "      <td>2</td>\n",
       "      <td>2</td>\n",
       "    </tr>\n",
       "  </tbody>\n",
       "</table>\n",
       "<p>5 rows × 35 columns</p>\n",
       "</div>"
      ],
      "text/plain": [
       "   Age Attrition     BusinessTravel  DailyRate              Department  \\\n",
       "0   41       Yes      Travel_Rarely       1102                   Sales   \n",
       "1   49        No  Travel_Frequently        279  Research & Development   \n",
       "2   37       Yes      Travel_Rarely       1373  Research & Development   \n",
       "3   33        No  Travel_Frequently       1392  Research & Development   \n",
       "4   27        No      Travel_Rarely        591  Research & Development   \n",
       "\n",
       "   DistanceFromHome  Education EducationField  EmployeeCount  EmployeeNumber  \\\n",
       "0                 1          2  Life Sciences              1               1   \n",
       "1                 8          1  Life Sciences              1               2   \n",
       "2                 2          2          Other              1               4   \n",
       "3                 3          4  Life Sciences              1               5   \n",
       "4                 2          1        Medical              1               7   \n",
       "\n",
       "   ...  RelationshipSatisfaction StandardHours  StockOptionLevel  \\\n",
       "0  ...                         1            80                 0   \n",
       "1  ...                         4            80                 1   \n",
       "2  ...                         2            80                 0   \n",
       "3  ...                         3            80                 0   \n",
       "4  ...                         4            80                 1   \n",
       "\n",
       "   TotalWorkingYears  TrainingTimesLastYear WorkLifeBalance  YearsAtCompany  \\\n",
       "0                  8                      0               1               6   \n",
       "1                 10                      3               3              10   \n",
       "2                  7                      3               3               0   \n",
       "3                  8                      3               3               8   \n",
       "4                  6                      3               3               2   \n",
       "\n",
       "  YearsInCurrentRole  YearsSinceLastPromotion  YearsWithCurrManager  \n",
       "0                  4                        0                     5  \n",
       "1                  7                        1                     7  \n",
       "2                  0                        0                     0  \n",
       "3                  7                        3                     0  \n",
       "4                  2                        2                     2  \n",
       "\n",
       "[5 rows x 35 columns]"
      ]
     },
     "execution_count": 2,
     "metadata": {},
     "output_type": "execute_result"
    }
   ],
   "source": [
    "# read in data\n",
    "dat = pd.read_csv(\"HR Employee Attrition.csv\")\n",
    "# data head \n",
    "dat.head()"
   ]
  },
  {
   "cell_type": "markdown",
   "id": "8455b7ca-5294-4063-9419-f83db6e91ec1",
   "metadata": {},
   "source": [
    "## Explatory Data Analysis"
   ]
  },
  {
   "cell_type": "code",
   "execution_count": 3,
   "id": "bdce9633-594b-4950-821b-ecdfe0821259",
   "metadata": {},
   "outputs": [
    {
     "name": "stdout",
     "output_type": "stream",
     "text": [
      "Number of Columns:  35\n",
      "Number of Rows:  1470\n",
      "Number of Missing Values:\n",
      " Age                         0\n",
      "Attrition                   0\n",
      "BusinessTravel              0\n",
      "DailyRate                   0\n",
      "Department                  0\n",
      "DistanceFromHome            0\n",
      "Education                   0\n",
      "EducationField              0\n",
      "EmployeeCount               0\n",
      "EmployeeNumber              0\n",
      "EnvironmentSatisfaction     0\n",
      "Gender                      0\n",
      "HourlyRate                  0\n",
      "JobInvolvement              0\n",
      "JobLevel                    0\n",
      "JobRole                     0\n",
      "JobSatisfaction             0\n",
      "MaritalStatus               0\n",
      "MonthlyIncome               0\n",
      "MonthlyRate                 0\n",
      "NumCompaniesWorked          0\n",
      "Over18                      0\n",
      "OverTime                    0\n",
      "PercentSalaryHike           0\n",
      "PerformanceRating           0\n",
      "RelationshipSatisfaction    0\n",
      "StandardHours               0\n",
      "StockOptionLevel            0\n",
      "TotalWorkingYears           0\n",
      "TrainingTimesLastYear       0\n",
      "WorkLifeBalance             0\n",
      "YearsAtCompany              0\n",
      "YearsInCurrentRole          0\n",
      "YearsSinceLastPromotion     0\n",
      "YearsWithCurrManager        0\n",
      "dtype: int64\n"
     ]
    }
   ],
   "source": [
    "print(\"Number of Columns: \", len(dat.columns))\n",
    "print(\"Number of Rows: \", len(dat))\n",
    "print(\"Number of Missing Values:\\n\", dat.isnull().sum())"
   ]
  },
  {
   "cell_type": "markdown",
   "id": "352232d3-1fc7-4bf5-af70-92c4596985e6",
   "metadata": {},
   "source": [
    "##### We can see there are no missing values - yay!"
   ]
  },
  {
   "cell_type": "code",
   "execution_count": 4,
   "id": "2960fbfb-d609-42f1-b328-e9b7145c3b35",
   "metadata": {},
   "outputs": [
    {
     "data": {
      "text/plain": [
       "<AxesSubplot:>"
      ]
     },
     "execution_count": 4,
     "metadata": {},
     "output_type": "execute_result"
    },
    {
     "data": {
      "image/png": "[encoded data removed]",
      "text/plain": [
       "<Figure size 432x288 with 1 Axes>"
      ]
     },
     "metadata": {
      "needs_background": "light"
     },
     "output_type": "display_data"
    }
   ],
   "source": [
    "# exploring columns\n",
    "# attrition\n",
    "dat.Attrition.value_counts().plot.bar() \n"
   ]
  },
  {
   "cell_type": "markdown",
   "id": "cf33ee86-a5e4-45bf-9988-ddccb72679cf",
   "metadata": {},
   "source": [
    "##### Way more non attrition than attrition"
   ]
  },
  {
   "cell_type": "markdown",
   "id": "96db97f6-6f2b-4835-96db-2fc499bc688b",
   "metadata": {},
   "source": [
    "### Age"
   ]
  },
  {
   "cell_type": "code",
   "execution_count": 5,
   "id": "bb058ca7-2117-4d21-abc8-2aa4c37fa4ff",
   "metadata": {},
   "outputs": [
    {
     "name": "stdout",
     "output_type": "stream",
     "text": [
      "36.923809523809524\n",
      "36.0\n"
     ]
    }
   ],
   "source": [
    "# curious about age distribution\n",
    "print(dat.Age.mean())\n",
    "print(dat.Age.median())"
   ]
  },
  {
   "cell_type": "markdown",
   "id": "0dda3702-041d-4e1f-92fe-dd7c0cb9e272",
   "metadata": {},
   "source": [
    "##### Average age is about 37"
   ]
  },
  {
   "cell_type": "code",
   "execution_count": 6,
   "id": "8231f9ab-e05e-4b46-96f9-d8d615a002de",
   "metadata": {},
   "outputs": [
    {
     "name": "stdout",
     "output_type": "stream",
     "text": [
      "0.4\n",
      "0.3670886075949367\n"
     ]
    }
   ],
   "source": [
    "# I want to see the distribution between Genders, Department, Job role, and Marital Status\n",
    "# Genders\n",
    "datAttritionYes = dat[dat[\"Attrition\"] == \"Yes\"]\n",
    "ratioWomenTotal = len(dat[dat[\"Gender\"] == \"Female\"])/len(dat)\n",
    "ratioWomenAttrition = len(datAttritionYes[datAttritionYes[\"Gender\"] == \"Female\"])/len(datAttritionYes)\n",
    "print(ratioWomenTotal)\n",
    "print(ratioWomenAttrition)\n",
    "\n"
   ]
  },
  {
   "cell_type": "markdown",
   "id": "9229d623-9297-4f9a-938f-9e85f0d67e94",
   "metadata": {},
   "source": [
    "##### The ratio of women for total, and the ratio for attrition is similar - difference of 0.03 so I am going to conclude that gender is not an attribute that is contributing to attrition"
   ]
  },
  {
   "cell_type": "markdown",
   "id": "2ad3c3e1-56f4-4551-9fbb-21e73cc6e52a",
   "metadata": {},
   "source": [
    "### Department"
   ]
  },
  {
   "cell_type": "code",
   "execution_count": 7,
   "id": "699aae95-d66d-4789-8ebd-33132122240f",
   "metadata": {},
   "outputs": [
    {
     "data": {
      "text/plain": [
       "<AxesSubplot:>"
      ]
     },
     "execution_count": 7,
     "metadata": {},
     "output_type": "execute_result"
    },
    {
     "data": {
      "image/png": "[encoded data removed]",
      "text/plain": [
       "<Figure size 432x288 with 1 Axes>"
      ]
     },
     "metadata": {
      "needs_background": "light"
     },
     "output_type": "display_data"
    }
   ],
   "source": [
    "dat.Department.value_counts().plot.bar() "
   ]
  },
  {
   "cell_type": "code",
   "execution_count": 8,
   "id": "f511bc1c-b37c-4453-8a55-b1a04d0c9060",
   "metadata": {},
   "outputs": [
    {
     "data": {
      "text/plain": [
       "<AxesSubplot:>"
      ]
     },
     "execution_count": 8,
     "metadata": {},
     "output_type": "execute_result"
    },
    {
     "data": {
      "image/png": "[encoded data removed]",
      "text/plain": [
       "<Figure size 432x288 with 1 Axes>"
      ]
     },
     "metadata": {
      "needs_background": "light"
     },
     "output_type": "display_data"
    }
   ],
   "source": [
    "datAttritionYes.Department.value_counts().plot.bar() "
   ]
  },
  {
   "cell_type": "markdown",
   "id": "25881603-f5ec-4ece-acf9-29f556cf6cb6",
   "metadata": {},
   "source": [
    "##### Seems like sales is increasing in attrition, so department could be a variable that contributes to attrition"
   ]
  },
  {
   "cell_type": "markdown",
   "id": "f9daad3b-7419-426f-a66d-3e48063c86e1",
   "metadata": {},
   "source": [
    "### Job Role"
   ]
  },
  {
   "cell_type": "code",
   "execution_count": 9,
   "id": "354c1a06-80ba-4073-9de8-fa1255555572",
   "metadata": {},
   "outputs": [
    {
     "data": {
      "text/plain": [
       "<AxesSubplot:>"
      ]
     },
     "execution_count": 9,
     "metadata": {},
     "output_type": "execute_result"
    },
    {
     "data": {
      "image/png": "[encoded data removed]",
      "text/plain": [
       "<Figure size 432x288 with 1 Axes>"
      ]
     },
     "metadata": {
      "needs_background": "light"
     },
     "output_type": "display_data"
    }
   ],
   "source": [
    "dat.JobRole.value_counts().plot.bar() "
   ]
  },
  {
   "cell_type": "code",
   "execution_count": 10,
   "id": "540eba56-594b-49cd-ada4-b6bee3474743",
   "metadata": {},
   "outputs": [
    {
     "data": {
      "text/plain": [
       "<AxesSubplot:>"
      ]
     },
     "execution_count": 10,
     "metadata": {},
     "output_type": "execute_result"
    },
    {
     "data": {
      "image/png": "[encoded data removed]",
      "text/plain": [
       "<Figure size 432x288 with 1 Axes>"
      ]
     },
     "metadata": {
      "needs_background": "light"
     },
     "output_type": "display_data"
    }
   ],
   "source": [
    "datAttritionYes.JobRole.value_counts().plot.bar()"
   ]
  },
  {
   "cell_type": "markdown",
   "id": "920fed5c-feb9-46da-b23c-c4987a7ca971",
   "metadata": {},
   "source": [
    "##### The distribution of job role for total, and for attrition are not the same, so I think that job role is an attribute that contributes to attrition"
   ]
  },
  {
   "cell_type": "markdown",
   "id": "5b76a775-b25a-4845-9810-92912e43254b",
   "metadata": {},
   "source": [
    "### Marital Status"
   ]
  },
  {
   "cell_type": "code",
   "execution_count": 11,
   "id": "03a52230-8bf0-48e3-9182-1c95dbf5257c",
   "metadata": {},
   "outputs": [
    {
     "data": {
      "text/plain": [
       "<AxesSubplot:>"
      ]
     },
     "execution_count": 11,
     "metadata": {},
     "output_type": "execute_result"
    },
    {
     "data": {
      "image/png": "[encoded data removed]",
      "text/plain": [
       "<Figure size 432x288 with 1 Axes>"
      ]
     },
     "metadata": {
      "needs_background": "light"
     },
     "output_type": "display_data"
    }
   ],
   "source": [
    "dat.MaritalStatus.value_counts().plot.bar() "
   ]
  },
  {
   "cell_type": "code",
   "execution_count": 12,
   "id": "c6871ab4-1d58-40c0-988f-1981f97af8b0",
   "metadata": {},
   "outputs": [
    {
     "data": {
      "text/plain": [
       "<AxesSubplot:>"
      ]
     },
     "execution_count": 12,
     "metadata": {},
     "output_type": "execute_result"
    },
    {
     "data": {
      "image/png": "[encoded data removed]",
      "text/plain": [
       "<Figure size 432x288 with 1 Axes>"
      ]
     },
     "metadata": {
      "needs_background": "light"
     },
     "output_type": "display_data"
    }
   ],
   "source": [
    "datAttritionYes.MaritalStatus.value_counts().plot.bar()"
   ]
  },
  {
   "cell_type": "markdown",
   "id": "80b9c69e-10a4-4908-a728-20e1ca85c3fe",
   "metadata": {},
   "source": [
    "##### Seems like single people are more likely to quit their job, even though there are more married people in the overall dataset"
   ]
  },
  {
   "cell_type": "code",
   "execution_count": 13,
   "id": "bae0d8e5-2c54-48ca-ac98-cfde411a0037",
   "metadata": {},
   "outputs": [],
   "source": [
    "# converting attrition and others to dummy variable\n",
    "dat = pd.get_dummies(data = dat, columns = [\"Attrition\", \"Department\", \"Gender\",\n",
    "                                            \"BusinessTravel\",\"OverTime\", \"JobRole\",\"MaritalStatus\"])\n",
    "\n"
   ]
  },
  {
   "cell_type": "markdown",
   "id": "80c74797-3e29-4a6c-9410-2906667ca791",
   "metadata": {},
   "source": [
    "### Correlation"
   ]
  },
  {
   "cell_type": "code",
   "execution_count": 14,
   "id": "2c2da39c-5707-4134-9ccc-2a94a397d700",
   "metadata": {},
   "outputs": [
    {
     "data": {
      "text/html": [
       "<div>\n",
       "<style scoped>\n",
       "    .dataframe tbody tr th:only-of-type {\n",
       "        vertical-align: middle;\n",
       "    }\n",
       "\n",
       "    .dataframe tbody tr th {\n",
       "        vertical-align: top;\n",
       "    }\n",
       "\n",
       "    .dataframe thead th {\n",
       "        text-align: right;\n",
       "    }\n",
       "</style>\n",
       "<table border=\"1\" class=\"dataframe\">\n",
       "  <thead>\n",
       "    <tr style=\"text-align: right;\">\n",
       "      <th></th>\n",
       "      <th>Attrition_Yes</th>\n",
       "    </tr>\n",
       "  </thead>\n",
       "  <tbody>\n",
       "    <tr>\n",
       "      <th>Attrition_No</th>\n",
       "      <td>-1.000000</td>\n",
       "    </tr>\n",
       "    <tr>\n",
       "      <th>OverTime_No</th>\n",
       "      <td>-0.246118</td>\n",
       "    </tr>\n",
       "    <tr>\n",
       "      <th>TotalWorkingYears</th>\n",
       "      <td>-0.171063</td>\n",
       "    </tr>\n",
       "    <tr>\n",
       "      <th>JobLevel</th>\n",
       "      <td>-0.169105</td>\n",
       "    </tr>\n",
       "    <tr>\n",
       "      <th>YearsInCurrentRole</th>\n",
       "      <td>-0.160545</td>\n",
       "    </tr>\n",
       "    <tr>\n",
       "      <th>MonthlyIncome</th>\n",
       "      <td>-0.159840</td>\n",
       "    </tr>\n",
       "    <tr>\n",
       "      <th>Age</th>\n",
       "      <td>-0.159205</td>\n",
       "    </tr>\n",
       "    <tr>\n",
       "      <th>YearsWithCurrManager</th>\n",
       "      <td>-0.156199</td>\n",
       "    </tr>\n",
       "    <tr>\n",
       "      <th>StockOptionLevel</th>\n",
       "      <td>-0.137145</td>\n",
       "    </tr>\n",
       "    <tr>\n",
       "      <th>YearsAtCompany</th>\n",
       "      <td>-0.134392</td>\n",
       "    </tr>\n",
       "    <tr>\n",
       "      <th>JobInvolvement</th>\n",
       "      <td>-0.130016</td>\n",
       "    </tr>\n",
       "    <tr>\n",
       "      <th>JobSatisfaction</th>\n",
       "      <td>-0.103481</td>\n",
       "    </tr>\n",
       "    <tr>\n",
       "      <th>EnvironmentSatisfaction</th>\n",
       "      <td>-0.103369</td>\n",
       "    </tr>\n",
       "    <tr>\n",
       "      <th>MaritalStatus_Married</th>\n",
       "      <td>-0.090984</td>\n",
       "    </tr>\n",
       "    <tr>\n",
       "      <th>JobRole_Research Director</th>\n",
       "      <td>-0.088870</td>\n",
       "    </tr>\n",
       "    <tr>\n",
       "      <th>MaritalStatus_Divorced</th>\n",
       "      <td>-0.087716</td>\n",
       "    </tr>\n",
       "    <tr>\n",
       "      <th>Department_Research &amp; Development</th>\n",
       "      <td>-0.085293</td>\n",
       "    </tr>\n",
       "    <tr>\n",
       "      <th>JobRole_Manager</th>\n",
       "      <td>-0.083316</td>\n",
       "    </tr>\n",
       "    <tr>\n",
       "      <th>JobRole_Manufacturing Director</th>\n",
       "      <td>-0.082994</td>\n",
       "    </tr>\n",
       "    <tr>\n",
       "      <th>JobRole_Healthcare Representative</th>\n",
       "      <td>-0.078696</td>\n",
       "    </tr>\n",
       "    <tr>\n",
       "      <th>BusinessTravel_Non-Travel</th>\n",
       "      <td>-0.074457</td>\n",
       "    </tr>\n",
       "    <tr>\n",
       "      <th>WorkLifeBalance</th>\n",
       "      <td>-0.063939</td>\n",
       "    </tr>\n",
       "    <tr>\n",
       "      <th>TrainingTimesLastYear</th>\n",
       "      <td>-0.059478</td>\n",
       "    </tr>\n",
       "    <tr>\n",
       "      <th>DailyRate</th>\n",
       "      <td>-0.056652</td>\n",
       "    </tr>\n",
       "    <tr>\n",
       "      <th>BusinessTravel_Travel_Rarely</th>\n",
       "      <td>-0.049538</td>\n",
       "    </tr>\n",
       "    <tr>\n",
       "      <th>RelationshipSatisfaction</th>\n",
       "      <td>-0.045872</td>\n",
       "    </tr>\n",
       "    <tr>\n",
       "      <th>YearsSinceLastPromotion</th>\n",
       "      <td>-0.033019</td>\n",
       "    </tr>\n",
       "    <tr>\n",
       "      <th>Education</th>\n",
       "      <td>-0.031373</td>\n",
       "    </tr>\n",
       "    <tr>\n",
       "      <th>Gender_Female</th>\n",
       "      <td>-0.029453</td>\n",
       "    </tr>\n",
       "    <tr>\n",
       "      <th>PercentSalaryHike</th>\n",
       "      <td>-0.013478</td>\n",
       "    </tr>\n",
       "    <tr>\n",
       "      <th>EmployeeNumber</th>\n",
       "      <td>-0.010577</td>\n",
       "    </tr>\n",
       "    <tr>\n",
       "      <th>HourlyRate</th>\n",
       "      <td>-0.006846</td>\n",
       "    </tr>\n",
       "    <tr>\n",
       "      <th>JobRole_Research Scientist</th>\n",
       "      <td>-0.000360</td>\n",
       "    </tr>\n",
       "    <tr>\n",
       "      <th>PerformanceRating</th>\n",
       "      <td>0.002889</td>\n",
       "    </tr>\n",
       "    <tr>\n",
       "      <th>MonthlyRate</th>\n",
       "      <td>0.015170</td>\n",
       "    </tr>\n",
       "    <tr>\n",
       "      <th>Department_Human Resources</th>\n",
       "      <td>0.016832</td>\n",
       "    </tr>\n",
       "    <tr>\n",
       "      <th>JobRole_Sales Executive</th>\n",
       "      <td>0.019774</td>\n",
       "    </tr>\n",
       "    <tr>\n",
       "      <th>Gender_Male</th>\n",
       "      <td>0.029453</td>\n",
       "    </tr>\n",
       "    <tr>\n",
       "      <th>JobRole_Human Resources</th>\n",
       "      <td>0.036215</td>\n",
       "    </tr>\n",
       "    <tr>\n",
       "      <th>NumCompaniesWorked</th>\n",
       "      <td>0.043494</td>\n",
       "    </tr>\n",
       "    <tr>\n",
       "      <th>DistanceFromHome</th>\n",
       "      <td>0.077924</td>\n",
       "    </tr>\n",
       "    <tr>\n",
       "      <th>Department_Sales</th>\n",
       "      <td>0.080855</td>\n",
       "    </tr>\n",
       "    <tr>\n",
       "      <th>JobRole_Laboratory Technician</th>\n",
       "      <td>0.098290</td>\n",
       "    </tr>\n",
       "    <tr>\n",
       "      <th>BusinessTravel_Travel_Frequently</th>\n",
       "      <td>0.115143</td>\n",
       "    </tr>\n",
       "    <tr>\n",
       "      <th>JobRole_Sales Representative</th>\n",
       "      <td>0.157234</td>\n",
       "    </tr>\n",
       "    <tr>\n",
       "      <th>MaritalStatus_Single</th>\n",
       "      <td>0.175419</td>\n",
       "    </tr>\n",
       "    <tr>\n",
       "      <th>OverTime_Yes</th>\n",
       "      <td>0.246118</td>\n",
       "    </tr>\n",
       "    <tr>\n",
       "      <th>Attrition_Yes</th>\n",
       "      <td>1.000000</td>\n",
       "    </tr>\n",
       "    <tr>\n",
       "      <th>EmployeeCount</th>\n",
       "      <td>NaN</td>\n",
       "    </tr>\n",
       "    <tr>\n",
       "      <th>StandardHours</th>\n",
       "      <td>NaN</td>\n",
       "    </tr>\n",
       "  </tbody>\n",
       "</table>\n",
       "</div>"
      ],
      "text/plain": [
       "                                   Attrition_Yes\n",
       "Attrition_No                           -1.000000\n",
       "OverTime_No                            -0.246118\n",
       "TotalWorkingYears                      -0.171063\n",
       "JobLevel                               -0.169105\n",
       "YearsInCurrentRole                     -0.160545\n",
       "MonthlyIncome                          -0.159840\n",
       "Age                                    -0.159205\n",
       "YearsWithCurrManager                   -0.156199\n",
       "StockOptionLevel                       -0.137145\n",
       "YearsAtCompany                         -0.134392\n",
       "JobInvolvement                         -0.130016\n",
       "JobSatisfaction                        -0.103481\n",
       "EnvironmentSatisfaction                -0.103369\n",
       "MaritalStatus_Married                  -0.090984\n",
       "JobRole_Research Director              -0.088870\n",
       "MaritalStatus_Divorced                 -0.087716\n",
       "Department_Research & Development      -0.085293\n",
       "JobRole_Manager                        -0.083316\n",
       "JobRole_Manufacturing Director         -0.082994\n",
       "JobRole_Healthcare Representative      -0.078696\n",
       "BusinessTravel_Non-Travel              -0.074457\n",
       "WorkLifeBalance                        -0.063939\n",
       "TrainingTimesLastYear                  -0.059478\n",
       "DailyRate                              -0.056652\n",
       "BusinessTravel_Travel_Rarely           -0.049538\n",
       "RelationshipSatisfaction               -0.045872\n",
       "YearsSinceLastPromotion                -0.033019\n",
       "Education                              -0.031373\n",
       "Gender_Female                          -0.029453\n",
       "PercentSalaryHike                      -0.013478\n",
       "EmployeeNumber                         -0.010577\n",
       "HourlyRate                             -0.006846\n",
       "JobRole_Research Scientist             -0.000360\n",
       "PerformanceRating                       0.002889\n",
       "MonthlyRate                             0.015170\n",
       "Department_Human Resources              0.016832\n",
       "JobRole_Sales Executive                 0.019774\n",
       "Gender_Male                             0.029453\n",
       "JobRole_Human Resources                 0.036215\n",
       "NumCompaniesWorked                      0.043494\n",
       "DistanceFromHome                        0.077924\n",
       "Department_Sales                        0.080855\n",
       "JobRole_Laboratory Technician           0.098290\n",
       "BusinessTravel_Travel_Frequently        0.115143\n",
       "JobRole_Sales Representative            0.157234\n",
       "MaritalStatus_Single                    0.175419\n",
       "OverTime_Yes                            0.246118\n",
       "Attrition_Yes                           1.000000\n",
       "EmployeeCount                                NaN\n",
       "StandardHours                                NaN"
      ]
     },
     "execution_count": 14,
     "metadata": {},
     "output_type": "execute_result"
    }
   ],
   "source": [
    "# looking at correlation of attrition with all other variables\n",
    "corr = dat.corr()[['Attrition_Yes']]\n",
    "corr.sort_values(by=\"Attrition_Yes\")\n",
    "# largest correlation with attrition_yes is total working years, job level, years in current role, overtime "
   ]
  },
  {
   "cell_type": "markdown",
   "id": "70205d17-37b4-4b8f-8d3a-9ca3b2a68696",
   "metadata": {},
   "source": [
    "### Logistic Regression"
   ]
  },
  {
   "cell_type": "code",
   "execution_count": 16,
   "id": "3bec5b3b-041e-47dc-a1e1-87f3f29d0bfc",
   "metadata": {},
   "outputs": [
    {
     "data": {
      "text/plain": [
       "LogisticRegression(C=1, penalty='l1', solver='liblinear')"
      ]
     },
     "execution_count": 16,
     "metadata": {},
     "output_type": "execute_result"
    }
   ],
   "source": [
    "# first going to use logisitc regression to predict the attrition rate\n",
    "# redundant attributes seem like (Age & TotalWorkingYears, so I will only keep age\n",
    "# education field and over 18 don't seem like they will be helpful, so I will exclude those\n",
    "\n",
    "xData = dat.drop([\"Attrition_Yes\", \"Attrition_No\", \"EducationField\", \"Over18\", \"TotalWorkingYears\"],axis=1)\n",
    "X = xData[list(xData.columns)]\n",
    "Y = dat[\"Attrition_Yes\"]\n",
    "\n",
    "# splitting into training and test set\n",
    "X_train, X_test, y_train, y_test = train_test_split(X, Y, test_size=0.33, random_state=42)\n",
    "\n",
    "# Perform GridSearchCV to tune best-fit LR model\n",
    "param = {'C': [10**-2,10**-1,10**0,10**1,10**2]}\n",
    "\n",
    "lr_model = LogisticRegression(penalty='l1', solver='liblinear')\n",
    "gs_model = GridSearchCV(estimator=lr_model, param_grid=param)\n",
    "gs_model.fit(X_train, y_train)\n",
    "\n",
    "# Train a LR model with best parameters\n",
    "model = LogisticRegression(**gs_model.best_params_, penalty='l1', solver='liblinear')\n",
    "model.fit(X_train, y_train)\n"
   ]
  },
  {
   "cell_type": "code",
   "execution_count": 17,
   "id": "2c6055df-8a7b-4c7e-bd84-33d5a17cee7c",
   "metadata": {},
   "outputs": [],
   "source": [
    "coef = model.coef_[0]\n",
    "imp_features = pd.Series(X.columns)[list(coef!=0)]\n",
    "X_trainRefined = X_train[imp_features]\n",
    "X_testRefined = X_test[imp_features]"
   ]
  },
  {
   "cell_type": "code",
   "execution_count": 18,
   "id": "ce73e06d-33c3-4fa8-98fd-fbdce701f055",
   "metadata": {},
   "outputs": [
    {
     "name": "stdout",
     "output_type": "stream",
     "text": [
      "12\n",
      "Redundant Features ['EmployeeCount', 'JobLevel', 'Department_Human Resources', 'Department_Sales', 'Gender_Female', 'BusinessTravel_Travel_Rarely', 'OverTime_No', 'JobRole_Manager', 'JobRole_Manufacturing Director', 'JobRole_Research Scientist', 'JobRole_Sales Executive', 'MaritalStatus_Married']\n"
     ]
    }
   ],
   "source": [
    "print(sum(model.coef_[0]==0))\n",
    "print(\"Redundant Features\", list(pd.Series(X_train.columns)[list(coef==0)]))"
   ]
  },
  {
   "cell_type": "code",
   "execution_count": 19,
   "id": "1a0dd07a-55c1-401f-a054-e776288a3b1a",
   "metadata": {},
   "outputs": [
    {
     "data": {
      "text/plain": [
       "0.8868312757201646"
      ]
     },
     "execution_count": 19,
     "metadata": {},
     "output_type": "execute_result"
    }
   ],
   "source": [
    "model.fit(X_trainRefined, y_train)\n",
    "model.score(X_testRefined, y_test, sample_weight=None)\n",
    "# got accuracy score of 0.88"
   ]
  },
  {
   "cell_type": "markdown",
   "id": "c3ace2f0-d6b1-4277-9fca-ca89aac1981e",
   "metadata": {},
   "source": [
    "### Overall, the model was gained an accuracy score of 0.886"
   ]
  },
  {
   "cell_type": "code",
   "execution_count": null,
   "id": "1d311c79-caf7-43d7-bff5-63ddd4504d70",
   "metadata": {},
   "outputs": [],
   "source": []
  }
 ],
 "metadata": {
  "kernelspec": {
   "display_name": "Python 3 (ipykernel)",
   "language": "python",
   "name": "python3"
  },
  "language_info": {
   "codemirror_mode": {
    "name": "ipython",
    "version": 3
   },
   "file_extension": ".py",
   "mimetype": "text/x-python",
   "name": "python",
   "nbconvert_exporter": "python",
   "pygments_lexer": "ipython3",
   "version": "3.9.7"
  }
 },
 "nbformat": 4,
 "nbformat_minor": 5
}
